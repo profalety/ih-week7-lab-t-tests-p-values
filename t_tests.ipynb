{
 "cells": [
  {
   "cell_type": "markdown",
   "id": "32861f8d-ba81-4696-9386-c54f4a7b13fc",
   "metadata": {},
   "source": [
    "![logo_ironhack_blue 7](https://user-images.githubusercontent.com/23629340/40541063-a07a0a8a-601a-11e8-91b5-2f13e4e6b441.png)\n",
    "# Lab | Inferential statistics - T-test & P-value"
   ]
  },
  {
   "cell_type": "markdown",
   "id": "74244eb1-b36f-4413-a6bc-aed18fdd3277",
   "metadata": {},
   "source": [
    "## Import"
   ]
  },
  {
   "cell_type": "code",
   "execution_count": 2,
   "id": "cf95a85c-b25e-4163-8397-8660212b185d",
   "metadata": {},
   "outputs": [],
   "source": [
    "import pandas as pd\n",
    "import numpy as np\n",
    "import scipy.stats as st\n",
    "import matplotlib.pyplot as plt\n",
    "import seaborn as sns"
   ]
  },
  {
   "cell_type": "markdown",
   "id": "867e0c44-e3e4-4bf9-8b99-8a8e5754f342",
   "metadata": {},
   "source": [
    "## One tailed t-test"
   ]
  },
  {
   "cell_type": "markdown",
   "id": "1d2c9524-1ff5-4829-aa07-f2ac311ecca7",
   "metadata": {},
   "source": [
    "**One tailed t-test**<br>\n",
    "In a packing plant, a machine packs cartons with jars. It is supposed that a new machine will pack faster on the average than the machine currently used. To test that hypothesis, the times it takes each machine to pack ten cartons are recorded. The results, in seconds, are shown in the tables in the file `files_for_lab/machine.txt`.<br>\n",
    "<br>\n",
    "Assume that there is sufficient evidence to conduct the t test, does the data provide sufficient evidence to show if one machine is better than the other?"
   ]
  },
  {
   "cell_type": "code",
   "execution_count": 3,
   "id": "d02b5887-c51a-4842-8df6-79f9934e75fe",
   "metadata": {},
   "outputs": [],
   "source": [
    "df = pd.read_csv('files_for_lab/machine.txt', sep=\"\\t\")\n",
    "df.columns = df.columns.str.lower().str.replace(' ', '_').str.replace('.', '', regex=True)"
   ]
  },
  {
   "cell_type": "code",
   "execution_count": 4,
   "id": "cdae1646-49f2-400b-a12a-523e6c310575",
   "metadata": {},
   "outputs": [
    {
     "data": {
      "text/html": [
       "<div>\n",
       "<style scoped>\n",
       "    .dataframe tbody tr th:only-of-type {\n",
       "        vertical-align: middle;\n",
       "    }\n",
       "\n",
       "    .dataframe tbody tr th {\n",
       "        vertical-align: top;\n",
       "    }\n",
       "\n",
       "    .dataframe thead th {\n",
       "        text-align: right;\n",
       "    }\n",
       "</style>\n",
       "<table border=\"1\" class=\"dataframe\">\n",
       "  <thead>\n",
       "    <tr style=\"text-align: right;\">\n",
       "      <th></th>\n",
       "      <th>new_machine</th>\n",
       "      <th>____old_machine</th>\n",
       "    </tr>\n",
       "  </thead>\n",
       "  <tbody>\n",
       "    <tr>\n",
       "      <th>0</th>\n",
       "      <td>42.1</td>\n",
       "      <td>42.7</td>\n",
       "    </tr>\n",
       "    <tr>\n",
       "      <th>1</th>\n",
       "      <td>41.0</td>\n",
       "      <td>43.6</td>\n",
       "    </tr>\n",
       "    <tr>\n",
       "      <th>2</th>\n",
       "      <td>41.3</td>\n",
       "      <td>43.8</td>\n",
       "    </tr>\n",
       "    <tr>\n",
       "      <th>3</th>\n",
       "      <td>41.8</td>\n",
       "      <td>43.3</td>\n",
       "    </tr>\n",
       "    <tr>\n",
       "      <th>4</th>\n",
       "      <td>42.4</td>\n",
       "      <td>42.5</td>\n",
       "    </tr>\n",
       "    <tr>\n",
       "      <th>5</th>\n",
       "      <td>42.8</td>\n",
       "      <td>43.5</td>\n",
       "    </tr>\n",
       "    <tr>\n",
       "      <th>6</th>\n",
       "      <td>43.2</td>\n",
       "      <td>43.1</td>\n",
       "    </tr>\n",
       "    <tr>\n",
       "      <th>7</th>\n",
       "      <td>42.3</td>\n",
       "      <td>41.7</td>\n",
       "    </tr>\n",
       "    <tr>\n",
       "      <th>8</th>\n",
       "      <td>41.8</td>\n",
       "      <td>44.0</td>\n",
       "    </tr>\n",
       "    <tr>\n",
       "      <th>9</th>\n",
       "      <td>42.7</td>\n",
       "      <td>44.1</td>\n",
       "    </tr>\n",
       "  </tbody>\n",
       "</table>\n",
       "</div>"
      ],
      "text/plain": [
       "   new_machine  ____old_machine\n",
       "0         42.1             42.7\n",
       "1         41.0             43.6\n",
       "2         41.3             43.8\n",
       "3         41.8             43.3\n",
       "4         42.4             42.5\n",
       "5         42.8             43.5\n",
       "6         43.2             43.1\n",
       "7         42.3             41.7\n",
       "8         41.8             44.0\n",
       "9         42.7             44.1"
      ]
     },
     "execution_count": 4,
     "metadata": {},
     "output_type": "execute_result"
    }
   ],
   "source": [
    "df"
   ]
  },
  {
   "cell_type": "code",
   "execution_count": 5,
   "id": "ca1c4074-0528-49e3-97c8-fc236e3b4b1d",
   "metadata": {},
   "outputs": [
    {
     "data": {
      "text/plain": [
       "Index(['new_machine', '____old_machine'], dtype='object')"
      ]
     },
     "execution_count": 5,
     "metadata": {},
     "output_type": "execute_result"
    }
   ],
   "source": [
    "df.columns"
   ]
  },
  {
   "cell_type": "code",
   "execution_count": 6,
   "id": "2cf0d6b8-b403-483b-948a-7aed4d57048f",
   "metadata": {},
   "outputs": [],
   "source": [
    "df = df.rename(columns={'____old_machine': 'old_machine'})"
   ]
  },
  {
   "cell_type": "code",
   "execution_count": 7,
   "id": "bdeb0467-a749-4303-b591-b359547c49de",
   "metadata": {},
   "outputs": [],
   "source": [
    "# 0-hypothesis: the new machine is quicker than the old machine"
   ]
  },
  {
   "cell_type": "code",
   "execution_count": 8,
   "id": "590ecb82-a44e-4036-90fa-f8555c446238",
   "metadata": {},
   "outputs": [
    {
     "name": "stdout",
     "output_type": "stream",
     "text": [
      "p value (single tailed):  0.00034831880383795163\n"
     ]
    }
   ],
   "source": [
    "#for the single tailed experiment\n",
    "print('p value (single tailed): ',st.ttest_1samp(df['new_machine'],df['old_machine'].mean())[1]/2)"
   ]
  },
  {
   "cell_type": "code",
   "execution_count": 9,
   "id": "a57bba51-ae64-4576-99a0-c68f33e286ba",
   "metadata": {},
   "outputs": [],
   "source": [
    "# p is low, null must go!\n",
    "# we reject the 0-hypothesis\n",
    "# So there is no evidence that the new machine is quicker"
   ]
  },
  {
   "cell_type": "markdown",
   "id": "c17a2b66-ac9e-48d3-bc9b-a14019b8974e",
   "metadata": {},
   "source": [
    "## Matched Pairs Test"
   ]
  },
  {
   "cell_type": "markdown",
   "id": "c7a07d1a-024f-45e3-ab1a-351cc761a619",
   "metadata": {},
   "source": [
    "**Matched Pairs Test**<br>\n",
    "In this challenge we will compare dependent samples of data describing our Pokemon (file `files_for_lab/pokemon.csv`). Our goal is to see whether there is a significant difference between each Pokemon's defense and attack scores. Our hypothesis is that the defense and attack scores are equal.<br>\n",
    "<br>\n",
    "Compare the two columns to see if there is a statistically significant difference between them and comment your result.\n"
   ]
  },
  {
   "cell_type": "code",
   "execution_count": 10,
   "id": "ffa50a4e-7b66-4b33-b356-d2eaa0d416d3",
   "metadata": {},
   "outputs": [],
   "source": [
    "df = pd.read_csv('files_for_lab/pokemon.csv')\n",
    "df.columns = df.columns.str.lower().str.replace(' ', '_').str.replace('.', '', regex=True)"
   ]
  },
  {
   "cell_type": "code",
   "execution_count": 11,
   "id": "b4b117b3-7f24-4b65-b60c-6ccb76f783c8",
   "metadata": {},
   "outputs": [
    {
     "data": {
      "text/plain": [
       "Index(['#', 'name', 'type_1', 'type_2', 'total', 'hp', 'attack', 'defense',\n",
       "       'sp_atk', 'sp_def', 'speed', 'generation', 'legendary'],\n",
       "      dtype='object')"
      ]
     },
     "execution_count": 11,
     "metadata": {},
     "output_type": "execute_result"
    }
   ],
   "source": [
    "df.columns"
   ]
  },
  {
   "cell_type": "code",
   "execution_count": 12,
   "id": "bd0cec2a-b754-4bb7-a4e6-f6404f13876b",
   "metadata": {},
   "outputs": [],
   "source": [
    "df.drop(['#'], axis=1, inplace=True)"
   ]
  },
  {
   "cell_type": "code",
   "execution_count": 13,
   "id": "786e8ee0-e083-4304-a3e3-f4a3a5d0b2ed",
   "metadata": {},
   "outputs": [
    {
     "data": {
      "text/plain": [
       "Ttest_relResult(statistic=4.325566393330478, pvalue=1.7140303479358558e-05)"
      ]
     },
     "execution_count": 13,
     "metadata": {},
     "output_type": "execute_result"
    }
   ],
   "source": [
    "st.ttest_rel(df['attack'], df['defense'])"
   ]
  },
  {
   "cell_type": "code",
   "execution_count": 14,
   "id": "e22f9baf-808d-4271-82a6-e7bd3a8a0b4d",
   "metadata": {},
   "outputs": [],
   "source": [
    "# p is low, null must go!\n",
    "# we reject the 0-hypthesis\n",
    "# So defense and attack score are veeeery likely different beyond random variance"
   ]
  },
  {
   "cell_type": "markdown",
   "id": "6f3857c9-5884-4c35-bf1e-9131db80cc5e",
   "metadata": {},
   "source": [
    "## ANOVA testing"
   ]
  },
  {
   "cell_type": "markdown",
   "id": "a3127e26-838f-4be5-811a-12f341edae3c",
   "metadata": {},
   "source": [
    "In this activity, we will look at another example. Your task is to understand the problem and write down all the steps to set up ANOVA. After the next lesson, we will ask you to solve this problem using Python. Here are the steps that you would need to work on:<br>\n",
    "    - Null hypothesis<br>\n",
    "    - Alternate hypothesis<br>\n",
    "    - Level of significance<br>\n",
    "    - Test statistic<br>\n",
    "    - P-value<br>\n",
    "    - F table<br>\n",
    "<br>\n",
    "**Context**<br>\n",
    "Suppose you are working as an analyst in a microprocessor chip manufacturing plant. You have been given the task of analyzing a plasma etching process with respect to changing Power (in Watts) of the plasma beam. Data was collected and provided to you to conduct statistical analysis and check if changing the power of the plasma beam has any effect on the etching rate by the machine. You will conduct ANOVA and check if there is any difference in the mean etching rate for different levels of power. You can find the data `anova_lab_data.xlsx` file in the `files_for_lab` folder<br>\n",
    "<br>\n",
    "- State the null hypothesis<br>\n",
    "- State the alternate hypothesis<br>\n",
    "- What is the significance level<br>\n",
    "- What are the degrees of freedom of model, error terms, and total DoF<br>\n",
    "<br>\n",
    "Data was collected randomly and provided to you in the table as shown:\n",
    "<img src=\"https://education-team-2020.s3-eu-west-1.amazonaws.com/data-analytics/7.05/7.05-lab_data.png\">\n",
    "\n"
   ]
  },
  {
   "cell_type": "markdown",
   "id": "442d3092-3f08-4eed-97d3-7030d533db1d",
   "metadata": {},
   "source": [
    "- H0 for ANOVA is always that the means of the various groups are the same\n",
    "- H1 is that they are not the same. So that there is a difference in etching rate between plasma beams with different power\n",
    "- degree of freedom of model: 12 = (15 Samples - 3 levels of power) \n"
   ]
  },
  {
   "cell_type": "markdown",
   "id": "06da2c5e-31da-423e-9521-8aa4639ebdb0",
   "metadata": {},
   "source": [
    "- In this section, use the Python to conduct ANOVA.\n",
    "- What conclusions can you draw from the experiment and why?"
   ]
  },
  {
   "cell_type": "code",
   "execution_count": 15,
   "id": "d3ab72a4-6103-4cca-8acf-201c9cf9d85c",
   "metadata": {},
   "outputs": [],
   "source": [
    "df = pd.read_excel('files_for_lab/anova_lab_data.xlsx')\n",
    "df.columns = df.columns.str.lower().str.replace(' ', '_').str.replace('.', '', regex=True)"
   ]
  },
  {
   "cell_type": "code",
   "execution_count": 16,
   "id": "246617fc-e500-46ca-99bf-6ac7ae0b4082",
   "metadata": {},
   "outputs": [
    {
     "data": {
      "text/plain": [
       "Index(['power_', 'etching_rate'], dtype='object')"
      ]
     },
     "execution_count": 16,
     "metadata": {},
     "output_type": "execute_result"
    }
   ],
   "source": [
    "df.columns"
   ]
  },
  {
   "cell_type": "code",
   "execution_count": 17,
   "id": "1108e41c-1ff4-4243-852e-c6bb271cd024",
   "metadata": {},
   "outputs": [],
   "source": [
    "df = df.rename(columns={'power_': 'power'})"
   ]
  },
  {
   "cell_type": "code",
   "execution_count": 18,
   "id": "64c55cc6-ca67-4eb8-991d-47c8f3c83d94",
   "metadata": {},
   "outputs": [],
   "source": [
    "df['power'] = df['power'].replace({' W': ''}, regex=True)"
   ]
  },
  {
   "cell_type": "code",
   "execution_count": 24,
   "id": "cd4ca742-cff4-4b9d-9b6c-fafd6c984790",
   "metadata": {},
   "outputs": [
    {
     "data": {
      "text/html": [
       "<div>\n",
       "<style scoped>\n",
       "    .dataframe tbody tr th:only-of-type {\n",
       "        vertical-align: middle;\n",
       "    }\n",
       "\n",
       "    .dataframe tbody tr th {\n",
       "        vertical-align: top;\n",
       "    }\n",
       "\n",
       "    .dataframe thead th {\n",
       "        text-align: right;\n",
       "    }\n",
       "</style>\n",
       "<table border=\"1\" class=\"dataframe\">\n",
       "  <thead>\n",
       "    <tr style=\"text-align: right;\">\n",
       "      <th></th>\n",
       "      <th>power</th>\n",
       "      <th>etching_rate</th>\n",
       "      <th>plasma</th>\n",
       "    </tr>\n",
       "  </thead>\n",
       "  <tbody>\n",
       "    <tr>\n",
       "      <th>0</th>\n",
       "      <td>160</td>\n",
       "      <td>5.43</td>\n",
       "      <td>0</td>\n",
       "    </tr>\n",
       "    <tr>\n",
       "      <th>1</th>\n",
       "      <td>180</td>\n",
       "      <td>6.24</td>\n",
       "      <td>0</td>\n",
       "    </tr>\n",
       "    <tr>\n",
       "      <th>2</th>\n",
       "      <td>200</td>\n",
       "      <td>8.79</td>\n",
       "      <td>0</td>\n",
       "    </tr>\n",
       "    <tr>\n",
       "      <th>3</th>\n",
       "      <td>160</td>\n",
       "      <td>5.71</td>\n",
       "      <td>1</td>\n",
       "    </tr>\n",
       "    <tr>\n",
       "      <th>4</th>\n",
       "      <td>180</td>\n",
       "      <td>6.71</td>\n",
       "      <td>1</td>\n",
       "    </tr>\n",
       "    <tr>\n",
       "      <th>5</th>\n",
       "      <td>200</td>\n",
       "      <td>9.20</td>\n",
       "      <td>1</td>\n",
       "    </tr>\n",
       "    <tr>\n",
       "      <th>6</th>\n",
       "      <td>160</td>\n",
       "      <td>6.22</td>\n",
       "      <td>2</td>\n",
       "    </tr>\n",
       "    <tr>\n",
       "      <th>7</th>\n",
       "      <td>180</td>\n",
       "      <td>5.98</td>\n",
       "      <td>2</td>\n",
       "    </tr>\n",
       "    <tr>\n",
       "      <th>8</th>\n",
       "      <td>200</td>\n",
       "      <td>7.90</td>\n",
       "      <td>2</td>\n",
       "    </tr>\n",
       "    <tr>\n",
       "      <th>9</th>\n",
       "      <td>160</td>\n",
       "      <td>6.01</td>\n",
       "      <td>3</td>\n",
       "    </tr>\n",
       "    <tr>\n",
       "      <th>10</th>\n",
       "      <td>180</td>\n",
       "      <td>5.66</td>\n",
       "      <td>3</td>\n",
       "    </tr>\n",
       "    <tr>\n",
       "      <th>11</th>\n",
       "      <td>200</td>\n",
       "      <td>8.15</td>\n",
       "      <td>3</td>\n",
       "    </tr>\n",
       "    <tr>\n",
       "      <th>12</th>\n",
       "      <td>160</td>\n",
       "      <td>5.59</td>\n",
       "      <td>4</td>\n",
       "    </tr>\n",
       "    <tr>\n",
       "      <th>13</th>\n",
       "      <td>180</td>\n",
       "      <td>6.60</td>\n",
       "      <td>4</td>\n",
       "    </tr>\n",
       "    <tr>\n",
       "      <th>14</th>\n",
       "      <td>200</td>\n",
       "      <td>7.55</td>\n",
       "      <td>4</td>\n",
       "    </tr>\n",
       "  </tbody>\n",
       "</table>\n",
       "</div>"
      ],
      "text/plain": [
       "   power  etching_rate  plasma\n",
       "0    160          5.43       0\n",
       "1    180          6.24       0\n",
       "2    200          8.79       0\n",
       "3    160          5.71       1\n",
       "4    180          6.71       1\n",
       "5    200          9.20       1\n",
       "6    160          6.22       2\n",
       "7    180          5.98       2\n",
       "8    200          7.90       2\n",
       "9    160          6.01       3\n",
       "10   180          5.66       3\n",
       "11   200          8.15       3\n",
       "12   160          5.59       4\n",
       "13   180          6.60       4\n",
       "14   200          7.55       4"
      ]
     },
     "execution_count": 24,
     "metadata": {},
     "output_type": "execute_result"
    }
   ],
   "source": [
    "df"
   ]
  },
  {
   "cell_type": "code",
   "execution_count": 20,
   "id": "c895ae54-ea9e-46a0-bf31-bc109219c654",
   "metadata": {},
   "outputs": [],
   "source": [
    "df['plasma'] = df.groupby('power').cumcount() ##is the new index \n",
    "df_pivot = df.pivot(index='plasma', columns='power', values='etching_rate')\n",
    "df_pivot.columns = ['Plasma_'+str(x) for x in df_pivot.columns.values]"
   ]
  },
  {
   "cell_type": "code",
   "execution_count": 21,
   "id": "7dedd6e6-c071-4664-91af-aeee0b128d10",
   "metadata": {},
   "outputs": [
    {
     "data": {
      "text/html": [
       "<div>\n",
       "<style scoped>\n",
       "    .dataframe tbody tr th:only-of-type {\n",
       "        vertical-align: middle;\n",
       "    }\n",
       "\n",
       "    .dataframe tbody tr th {\n",
       "        vertical-align: top;\n",
       "    }\n",
       "\n",
       "    .dataframe thead th {\n",
       "        text-align: right;\n",
       "    }\n",
       "</style>\n",
       "<table border=\"1\" class=\"dataframe\">\n",
       "  <thead>\n",
       "    <tr style=\"text-align: right;\">\n",
       "      <th></th>\n",
       "      <th>Plasma_160</th>\n",
       "      <th>Plasma_180</th>\n",
       "      <th>Plasma_200</th>\n",
       "    </tr>\n",
       "    <tr>\n",
       "      <th>plasma</th>\n",
       "      <th></th>\n",
       "      <th></th>\n",
       "      <th></th>\n",
       "    </tr>\n",
       "  </thead>\n",
       "  <tbody>\n",
       "    <tr>\n",
       "      <th>0</th>\n",
       "      <td>5.43</td>\n",
       "      <td>6.24</td>\n",
       "      <td>8.79</td>\n",
       "    </tr>\n",
       "    <tr>\n",
       "      <th>1</th>\n",
       "      <td>5.71</td>\n",
       "      <td>6.71</td>\n",
       "      <td>9.20</td>\n",
       "    </tr>\n",
       "    <tr>\n",
       "      <th>2</th>\n",
       "      <td>6.22</td>\n",
       "      <td>5.98</td>\n",
       "      <td>7.90</td>\n",
       "    </tr>\n",
       "    <tr>\n",
       "      <th>3</th>\n",
       "      <td>6.01</td>\n",
       "      <td>5.66</td>\n",
       "      <td>8.15</td>\n",
       "    </tr>\n",
       "    <tr>\n",
       "      <th>4</th>\n",
       "      <td>5.59</td>\n",
       "      <td>6.60</td>\n",
       "      <td>7.55</td>\n",
       "    </tr>\n",
       "  </tbody>\n",
       "</table>\n",
       "</div>"
      ],
      "text/plain": [
       "        Plasma_160  Plasma_180  Plasma_200\n",
       "plasma                                    \n",
       "0             5.43        6.24        8.79\n",
       "1             5.71        6.71        9.20\n",
       "2             6.22        5.98        7.90\n",
       "3             6.01        5.66        8.15\n",
       "4             5.59        6.60        7.55"
      ]
     },
     "execution_count": 21,
     "metadata": {},
     "output_type": "execute_result"
    }
   ],
   "source": [
    "df_pivot"
   ]
  },
  {
   "cell_type": "code",
   "execution_count": 22,
   "id": "eb7dedca-abb1-497a-b00a-342c6c246d4a",
   "metadata": {},
   "outputs": [
    {
     "data": {
      "text/plain": [
       "F_onewayResult(statistic=36.87895470100505, pvalue=7.506584272358903e-06)"
      ]
     },
     "execution_count": 22,
     "metadata": {},
     "output_type": "execute_result"
    }
   ],
   "source": [
    "st.f_oneway(df_pivot['Plasma_160'],df_pivot.Plasma_180,df_pivot.Plasma_200)\n"
   ]
  },
  {
   "cell_type": "code",
   "execution_count": 23,
   "id": "42642714-8e77-498b-9e7e-3c8e4171f92c",
   "metadata": {},
   "outputs": [],
   "source": [
    "# so the means are not the same"
   ]
  }
 ],
 "metadata": {
  "kernelspec": {
   "display_name": "Python 3 (ipykernel)",
   "language": "python",
   "name": "python3"
  },
  "language_info": {
   "codemirror_mode": {
    "name": "ipython",
    "version": 3
   },
   "file_extension": ".py",
   "mimetype": "text/x-python",
   "name": "python",
   "nbconvert_exporter": "python",
   "pygments_lexer": "ipython3",
   "version": "3.9.7"
  },
  "toc-autonumbering": true
 },
 "nbformat": 4,
 "nbformat_minor": 5
}
